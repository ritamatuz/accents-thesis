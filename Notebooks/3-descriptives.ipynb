{
 "cells": [
  {
   "cell_type": "code",
   "execution_count": 2,
   "metadata": {},
   "outputs": [],
   "source": [
    "import pandas as pd\n",
    "import numpy as np"
   ]
  },
  {
   "attachments": {},
   "cell_type": "markdown",
   "metadata": {},
   "source": [
    "# Generating the descriptive statistics for the methods section"
   ]
  },
  {
   "cell_type": "code",
   "execution_count": 3,
   "metadata": {},
   "outputs": [],
   "source": [
    "df = pd.read_excel('saa_april.xlsx')"
   ]
  },
  {
   "cell_type": "code",
   "execution_count": 9,
   "metadata": {},
   "outputs": [
    {
     "data": {
      "text/plain": [
       "['arabic',\n",
       " 'dutch',\n",
       " 'french',\n",
       " 'korean',\n",
       " 'mandarin',\n",
       " 'portuguese',\n",
       " 'russian',\n",
       " 'spanish',\n",
       " 'uk',\n",
       " 'usa']"
      ]
     },
     "execution_count": 9,
     "metadata": {},
     "output_type": "execute_result"
    }
   ],
   "source": [
    "l = list(df['label'].unique())\n",
    "l.sort()\n",
    "l"
   ]
  },
  {
   "cell_type": "code",
   "execution_count": 4,
   "metadata": {},
   "outputs": [
    {
     "name": "stdout",
     "output_type": "stream",
     "text": [
      "Number of speakers: 1472\n",
      "Percentage of male speakers: 47.75815217391305\n",
      "Average age: 32.614809782608695\n",
      "Standard deviation of age: 14.70462861656194\n"
     ]
    }
   ],
   "source": [
    "# Number of speakers\n",
    "num_speakers = len(df)\n",
    "\n",
    "# Percentage of speakers that are male\n",
    "num_male_speakers = len(df[df['sex'] == 'male'])\n",
    "percentage_male = (num_male_speakers / num_speakers) * 100\n",
    "\n",
    "# Average and standard deviation of age\n",
    "average_age = df['age'].mean()\n",
    "std_dev_age = df['age'].std()\n",
    "\n",
    "# Print the results\n",
    "print(\"Number of speakers:\", num_speakers)\n",
    "print(\"Percentage of male speakers:\", percentage_male)\n",
    "print(\"Average age:\", average_age)\n",
    "print(\"Standard deviation of age:\", std_dev_age)"
   ]
  },
  {
   "cell_type": "code",
   "execution_count": 5,
   "metadata": {},
   "outputs": [
    {
     "name": "stdout",
     "output_type": "stream",
     "text": [
      "Label: arabic\n",
      "Number of speakers: 200\n",
      "Percentage of male speakers: 55.00000000000001\n",
      "Average age: 30.81\n",
      "Standard deviation of age: 12.068227316087638\n",
      "\n",
      "Label: dutch\n",
      "Number of speakers: 54\n",
      "Percentage of male speakers: 40.74074074074074\n",
      "Average age: 30.25925925925926\n",
      "Standard deviation of age: 12.570083059399236\n",
      "\n",
      "Label: french\n",
      "Number of speakers: 85\n",
      "Percentage of male speakers: 44.70588235294118\n",
      "Average age: 34.423529411764704\n",
      "Standard deviation of age: 16.75479779942808\n",
      "\n",
      "Label: korean\n",
      "Number of speakers: 97\n",
      "Percentage of male speakers: 37.11340206185567\n",
      "Average age: 31.237113402061855\n",
      "Standard deviation of age: 12.26595321397496\n",
      "\n",
      "Label: mandarin\n",
      "Number of speakers: 156\n",
      "Percentage of male speakers: 35.8974358974359\n",
      "Average age: 26.435897435897434\n",
      "Standard deviation of age: 6.956249904783456\n",
      "\n",
      "Label: portuguese\n",
      "Number of speakers: 69\n",
      "Percentage of male speakers: 47.82608695652174\n",
      "Average age: 29.202898550724637\n",
      "Standard deviation of age: 10.38746375394671\n",
      "\n",
      "Label: russian\n",
      "Number of speakers: 81\n",
      "Percentage of male speakers: 39.50617283950617\n",
      "Average age: 33.51851851851852\n",
      "Standard deviation of age: 14.213647588771074\n",
      "\n",
      "Label: spanish\n",
      "Number of speakers: 235\n",
      "Percentage of male speakers: 51.48936170212765\n",
      "Average age: 34.638297872340424\n",
      "Standard deviation of age: 13.992100231389564\n",
      "\n",
      "Label: uk\n",
      "Number of speakers: 70\n",
      "Percentage of male speakers: 65.71428571428571\n",
      "Average age: 34.714285714285715\n",
      "Standard deviation of age: 15.83807818192897\n",
      "\n",
      "Label: usa\n",
      "Number of speakers: 425\n",
      "Percentage of male speakers: 49.1764705882353\n",
      "Average age: 34.90117647058823\n",
      "Standard deviation of age: 17.964577922495348\n",
      "\n"
     ]
    }
   ],
   "source": [
    "# Group the data by 'label'\n",
    "grouped = df.groupby('label')\n",
    "\n",
    "# Initialize an empty dictionary to store the results\n",
    "results = {}\n",
    "\n",
    "for label, group in grouped:\n",
    "    # Number of speakers for the current label\n",
    "    num_speakers = len(group)\n",
    "\n",
    "    # Percentage of speakers that are male for the current label\n",
    "    num_male_speakers = len(group[group['sex'] == 'male'])\n",
    "    percentage_male = (num_male_speakers / num_speakers) * 100\n",
    "\n",
    "    # Average and standard deviation of age for the current label\n",
    "    average_age = group['age'].mean()\n",
    "    std_dev_age = group['age'].std()\n",
    "\n",
    "    # Store the results for the current label\n",
    "    results[label] = {\n",
    "        \"Number of speakers\": num_speakers,\n",
    "        \"Percentage of male speakers\": percentage_male,\n",
    "        \"Average age\": average_age,\n",
    "        \"Standard deviation of age\": std_dev_age,\n",
    "    }\n",
    "\n",
    "# Print the results\n",
    "for label, stats in results.items():\n",
    "    print(f\"Label: {label}\")\n",
    "    for stat_name, stat_value in stats.items():\n",
    "        print(f\"{stat_name}: {stat_value}\")\n",
    "    print()\n"
   ]
  },
  {
   "cell_type": "code",
   "execution_count": null,
   "metadata": {},
   "outputs": [],
   "source": []
  },
  {
   "cell_type": "code",
   "execution_count": null,
   "metadata": {},
   "outputs": [],
   "source": []
  },
  {
   "cell_type": "code",
   "execution_count": null,
   "metadata": {},
   "outputs": [],
   "source": []
  },
  {
   "cell_type": "code",
   "execution_count": null,
   "metadata": {},
   "outputs": [],
   "source": []
  },
  {
   "cell_type": "code",
   "execution_count": null,
   "metadata": {},
   "outputs": [],
   "source": []
  }
 ],
 "metadata": {
  "kernelspec": {
   "display_name": "Python 3",
   "language": "python",
   "name": "python3"
  },
  "language_info": {
   "codemirror_mode": {
    "name": "ipython",
    "version": 3
   },
   "file_extension": ".py",
   "mimetype": "text/x-python",
   "name": "python",
   "nbconvert_exporter": "python",
   "pygments_lexer": "ipython3",
   "version": "3.9.2"
  },
  "orig_nbformat": 4
 },
 "nbformat": 4,
 "nbformat_minor": 2
}
