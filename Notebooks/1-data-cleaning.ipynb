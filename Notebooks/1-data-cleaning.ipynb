{
 "cells": [
  {
   "cell_type": "code",
   "execution_count": 2,
   "metadata": {},
   "outputs": [],
   "source": [
    "import pandas as pd\n",
    "import requests\n",
    "import re"
   ]
  },
  {
   "cell_type": "code",
   "execution_count": 24,
   "metadata": {},
   "outputs": [],
   "source": [
    "# CSV files were generated using webscraper.io to pull metadata from every speaker in the Speech Accent Archive on February 17th, 2023\n",
    "df1 = pd.read_csv('speech-accent-archive-part-1.csv')\n",
    "df2 = pd.read_csv('speech-accent-archive-part-2.csv')\n",
    "df = pd.concat([df1, df2], axis=0).reset_index()"
   ]
  },
  {
   "cell_type": "code",
   "execution_count": 29,
   "metadata": {},
   "outputs": [],
   "source": [
    "# Dropping rows with native language not specified\n",
    "df = df.dropna(subset=['native-language'])"
   ]
  },
  {
   "cell_type": "code",
   "execution_count": null,
   "metadata": {},
   "outputs": [],
   "source": [
    "# Creating cleaned data columns using regex\n",
    "df['url-id'] = df.apply(lambda x: re.findall('=(\\d+)', x['web-scraper-start-url'])[0], axis=1)\n",
    "df['length-residence2'] = df.apply(lambda x: re.findall('length of english residence: (\\d+\\.*\\d*) years', x['length-residence'])[0], axis=1)\n",
    "df['english-residence2'] = df.apply(lambda x: re.findall('english residence: (.*)', x['english-residence'])[0] if len(re.findall('english residence: (.*)', x['english-residence'])) > 0 else \"\", axis=1)\n",
    "df['age-of-english-onset2'] = df.apply(lambda x: re.findall('age of english onset: (\\d*)', x['age-of-english-onset'])[0], axis=1)\n",
    "df['other-languages2'] = df.apply(lambda x: re.findall('other language\\(s\\): (.*)', x['other-languages'])[0] if len(re.findall('other language\\(s\\): (.*)', x['other-languages'])) > 0 else \"\", axis=1)\n",
    "df['birth-place2'] = df.apply(lambda x: re.findall('birth place: (.*) \\(map\\)', x['birth-place'])[0] if len(re.findall('birth place: (.*) \\(map\\)', x['birth-place'])) > 0 else \"\", axis=1)\n",
    "df['age2'] = df.apply(lambda x: re.findall('age, sex: (\\d+),', x['age-sex'])[0] if len(re.findall('age, sex: (\\d+),', x['age-sex'])) > 0 else pd.NA, axis=1)\n",
    "df['sex2'] = df.apply(lambda x: re.findall('age, sex: \\d+, (.*)', x['age-sex'])[0] if len(re.findall('age, sex: \\d+, (.*)', x['age-sex'])) > 0 else pd.NA, axis=1)\n",
    "df['english-dialect'] = df['birth-place2']\n",
    "df['english-dialect'] = df.apply(lambda x: x['birth-place2'] if x['native-language'] == 'english' else \"\", axis=1)\n",
    "df['english-dialect'] = df.apply(lambda x: 'usa' if 'usa' in x['english-dialect'] else x['english-dialect'], axis=1)\n",
    "df['english-dialect'] = df.apply(lambda x: 'uk' if 'uk' in x['english-dialect'] else x['english-dialect'], axis=1)\n",
    "df['english-dialect'] = df.apply(lambda x: 'canada' if 'canada' in x['english-dialect'] else x['english-dialect'], axis=1)\n",
    "df['english-dialect'] = df.apply(lambda x: 'ireland' if 'ireland' in x['english-dialect'] else x['english-dialect'], axis=1)\n",
    "df['english-dialect'] = df.apply(lambda x: 'new zealand' if 'new zealand' in x['english-dialect'] else x['english-dialect'], axis=1)\n",
    "df['english-dialect'] = df.apply(lambda x: 'jamaica' if 'jamaica' in x['english-dialect'] else x['english-dialect'], axis=1)\n",
    "df['english-dialect'] = df.apply(lambda x: 'india' if 'india' in x['english-dialect'] else x['english-dialect'], axis=1)\n",
    "df['english-dialect'] = df.apply(lambda x: 'south africa' if 'south africa' in x['english-dialect'] else x['english-dialect'], axis=1)"
   ]
  },
  {
   "cell_type": "code",
   "execution_count": 132,
   "metadata": {},
   "outputs": [
    {
     "data": {
      "text/plain": [
       "english       652\n",
       "spanish       235\n",
       "arabic        200\n",
       "mandarin      156\n",
       "korean         97\n",
       "french         85\n",
       "russian        81\n",
       "portuguese     69\n",
       "dutch          54\n",
       "japanese       45\n",
       "german         45\n",
       "turkish        42\n",
       "vietnamese     40\n",
       "italian        39\n",
       "farsi          39\n",
       "polish         39\n",
       "cantonese      35\n",
       "hindi          34\n",
       "urdu           29\n",
       "macedonian     27\n",
       "tagalog        27\n",
       "amharic        27\n",
       "romanian       24\n",
       "thai           23\n",
       "swedish        23\n",
       "bengali        22\n",
       "bulgarian      20\n",
       "serbian        19\n",
       "nepali         18\n",
       "gujarati       17\n",
       "Name: native-language, dtype: int64"
      ]
     },
     "execution_count": 132,
     "metadata": {},
     "output_type": "execute_result"
    }
   ],
   "source": [
    "df['native-language'].value_counts()[:30]"
   ]
  },
  {
   "cell_type": "code",
   "execution_count": null,
   "metadata": {},
   "outputs": [],
   "source": [
    "# Creating the first version of the dataset, containing the 10 most frequent native languages, English broken down into dialects\n",
    "\n",
    "march = df[df['native-language'].isin(['english', 'spanish', 'arabic', 'mandarin', 'korean', 'french', 'russian', 'portuguese', 'dutch'])]\n",
    "def accent_class(x):\n",
    "    if x['native-language'] == 'english':\n",
    "        if x['english-dialect'] == 'usa':\n",
    "            return 'usa'\n",
    "        if x['english-dialect'] == 'uk':\n",
    "            return 'uk'\n",
    "        else:\n",
    "            return pd.NA\n",
    "    else:\n",
    "        return x['native-language']\n",
    "\n",
    "march['accent'] = march.apply(accent_class, axis=1)"
   ]
  },
  {
   "cell_type": "code",
   "execution_count": 163,
   "metadata": {},
   "outputs": [
    {
     "data": {
      "text/plain": [
       "usa           426\n",
       "spanish       235\n",
       "arabic        200\n",
       "mandarin      156\n",
       "korean         97\n",
       "french         85\n",
       "russian        81\n",
       "uk             70\n",
       "portuguese     69\n",
       "dutch          54\n",
       "Name: accent, dtype: int64"
      ]
     },
     "execution_count": 163,
     "metadata": {},
     "output_type": "execute_result"
    }
   ],
   "source": [
    "march['accent'].value_counts()"
   ]
  },
  {
   "cell_type": "code",
   "execution_count": 165,
   "metadata": {},
   "outputs": [
    {
     "data": {
      "text/html": [
       "<div>\n",
       "<style scoped>\n",
       "    .dataframe tbody tr th:only-of-type {\n",
       "        vertical-align: middle;\n",
       "    }\n",
       "\n",
       "    .dataframe tbody tr th {\n",
       "        vertical-align: top;\n",
       "    }\n",
       "\n",
       "    .dataframe thead th {\n",
       "        text-align: right;\n",
       "    }\n",
       "</style>\n",
       "<table border=\"1\" class=\"dataframe\">\n",
       "  <thead>\n",
       "    <tr style=\"text-align: right;\">\n",
       "      <th></th>\n",
       "      <th>index</th>\n",
       "      <th>url-id</th>\n",
       "      <th>age</th>\n",
       "      <th>sex</th>\n",
       "      <th>accent</th>\n",
       "    </tr>\n",
       "  </thead>\n",
       "  <tbody>\n",
       "    <tr>\n",
       "      <th>0</th>\n",
       "      <td>0</td>\n",
       "      <td>428</td>\n",
       "      <td>47</td>\n",
       "      <td>male</td>\n",
       "      <td>arabic</td>\n",
       "    </tr>\n",
       "    <tr>\n",
       "      <th>1</th>\n",
       "      <td>7</td>\n",
       "      <td>421</td>\n",
       "      <td>21</td>\n",
       "      <td>male</td>\n",
       "      <td>uk</td>\n",
       "    </tr>\n",
       "    <tr>\n",
       "      <th>2</th>\n",
       "      <td>8</td>\n",
       "      <td>420</td>\n",
       "      <td>26</td>\n",
       "      <td>female</td>\n",
       "      <td>usa</td>\n",
       "    </tr>\n",
       "    <tr>\n",
       "      <th>3</th>\n",
       "      <td>9</td>\n",
       "      <td>419</td>\n",
       "      <td>21</td>\n",
       "      <td>male</td>\n",
       "      <td>uk</td>\n",
       "    </tr>\n",
       "    <tr>\n",
       "      <th>4</th>\n",
       "      <td>12</td>\n",
       "      <td>416</td>\n",
       "      <td>19</td>\n",
       "      <td>male</td>\n",
       "      <td>usa</td>\n",
       "    </tr>\n",
       "    <tr>\n",
       "      <th>...</th>\n",
       "      <td>...</td>\n",
       "      <td>...</td>\n",
       "      <td>...</td>\n",
       "      <td>...</td>\n",
       "      <td>...</td>\n",
       "    </tr>\n",
       "    <tr>\n",
       "      <th>1468</th>\n",
       "      <td>3086</td>\n",
       "      <td>442</td>\n",
       "      <td>38</td>\n",
       "      <td>female</td>\n",
       "      <td>usa</td>\n",
       "    </tr>\n",
       "    <tr>\n",
       "      <th>1469</th>\n",
       "      <td>3087</td>\n",
       "      <td>441</td>\n",
       "      <td>18</td>\n",
       "      <td>male</td>\n",
       "      <td>spanish</td>\n",
       "    </tr>\n",
       "    <tr>\n",
       "      <th>1470</th>\n",
       "      <td>3089</td>\n",
       "      <td>439</td>\n",
       "      <td>31</td>\n",
       "      <td>male</td>\n",
       "      <td>uk</td>\n",
       "    </tr>\n",
       "    <tr>\n",
       "      <th>1471</th>\n",
       "      <td>3091</td>\n",
       "      <td>437</td>\n",
       "      <td>40</td>\n",
       "      <td>male</td>\n",
       "      <td>arabic</td>\n",
       "    </tr>\n",
       "    <tr>\n",
       "      <th>1472</th>\n",
       "      <td>3098</td>\n",
       "      <td>430</td>\n",
       "      <td>29</td>\n",
       "      <td>male</td>\n",
       "      <td>mandarin</td>\n",
       "    </tr>\n",
       "  </tbody>\n",
       "</table>\n",
       "<p>1473 rows × 5 columns</p>\n",
       "</div>"
      ],
      "text/plain": [
       "      index url-id age     sex    accent\n",
       "0         0    428  47    male    arabic\n",
       "1         7    421  21    male        uk\n",
       "2         8    420  26  female       usa\n",
       "3         9    419  21    male        uk\n",
       "4        12    416  19    male       usa\n",
       "...     ...    ...  ..     ...       ...\n",
       "1468   3086    442  38  female       usa\n",
       "1469   3087    441  18    male   spanish\n",
       "1470   3089    439  31    male        uk\n",
       "1471   3091    437  40    male    arabic\n",
       "1472   3098    430  29    male  mandarin\n",
       "\n",
       "[1473 rows x 5 columns]"
      ]
     },
     "execution_count": 165,
     "metadata": {},
     "output_type": "execute_result"
    }
   ],
   "source": [
    "march = march.dropna(subset=['accent'])\n",
    "march['age'] = march['age2']\n",
    "march['sex'] = march['sex2']\n",
    "march = march[['url-id', 'age', 'sex', 'accent']]\n",
    "march = march.reset_index()\n",
    "march.to_csv('speech-accent-archive-march-version.csv')\n",
    "march"
   ]
  },
  {
   "cell_type": "code",
   "execution_count": 45,
   "metadata": {},
   "outputs": [],
   "source": [
    "# Downloading the corresponding mp3 files from the web\n",
    "\n",
    "saa_url = \"https://accent.gmu.edu/\"\n",
    "\n",
    "with requests.Session() as req:\n",
    "\n",
    "    for index, row, in df.iterrows():\n",
    "        mp3_url = row['mp3-link']\n",
    "        name = row['url-id']\n",
    "\n",
    "        download = req.get(saa_url + mp3_url)\n",
    "        if download.status_code == 200:\n",
    "            with open(name + \".mp3\", 'wb') as f:\n",
    "                f.write(download.content)\n",
    "        else:\n",
    "            print(f\"Download Failed For File {name}\")"
   ]
  }
 ],
 "metadata": {
  "kernelspec": {
   "display_name": "Python 3",
   "language": "python",
   "name": "python3"
  },
  "language_info": {
   "codemirror_mode": {
    "name": "ipython",
    "version": 3
   },
   "file_extension": ".py",
   "mimetype": "text/x-python",
   "name": "python",
   "nbconvert_exporter": "python",
   "pygments_lexer": "ipython3",
   "version": "3.9.2"
  },
  "orig_nbformat": 4,
  "vscode": {
   "interpreter": {
    "hash": "d6282b6e4d677aa4f061341f82854aa406aca119071d71869111bf6890f340ff"
   }
  }
 },
 "nbformat": 4,
 "nbformat_minor": 2
}
